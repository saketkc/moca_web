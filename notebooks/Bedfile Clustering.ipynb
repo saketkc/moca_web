{
 "cells": [
  {
   "cell_type": "code",
   "execution_count": 1,
   "metadata": {
    "collapsed": true
   },
   "outputs": [],
   "source": [
    "%matplotlib inline\n",
    "import numpy as np\n",
    "import matplotlib\n",
    "matplotlib.rcParams['figure.figsize'] = (16.0,16.0)\n",
    "import pandas as pd\n"
   ]
  },
  {
   "cell_type": "markdown",
   "metadata": {},
   "source": [
    "## narrowPeak/broadPeak\n",
    "\n",
    "**chrom** - Name of the chromosome (or contig, scaffold, etc.).\n",
    "\n",
    "**chromStart** - The starting position of the feature in the chromosome or scaffold. The first base in a chromosome is numbered 0.\n",
    "\n",
    "**chromEnd** - The ending position of the feature in the chromosome or scaffold. The chromEnd base is not included in the display of the feature. For example, the first 100 bases of a chromosome are defined as chromStart=0, chromEnd=100, and span the bases numbered 0-99.\n",
    "\n",
    "**name** - Name given to a region (preferably unique). Use '.' if no name is assigned.\n",
    "\n",
    "**score** - Indicates how dark the peak will be displayed in the browser (0-1000). If all scores were '0' when the data were submitted to the DCC, the DCC assigned scores 1-1000 based on signal value. Ideally the average signalValue per base spread is between 100-1000.\n",
    "\n",
    "**strand** - +/- to denote strand or orientation (whenever applicable). Use '.' if no orientation is assigned.\n",
    "\n",
    "**signalValue** - Measurement of overall (usually, average) enrichment for the region.\n",
    "\n",
    "**pValue** - Measurement of statistical significance (-log10). Use -1 if no pValue is assigned.\n",
    "\n",
    "**qValue** - Measurement of statistical significance using false discovery rate (-log10). Use -1 if no qValue is assigned.\n",
    "\n",
    "### only in narrowPeak\n",
    "**peak** - Point-source called for this peak; 0-based offset from chromStart. Use -1 if no point-source called."
   ]
  },
  {
   "cell_type": "code",
   "execution_count": 2,
   "metadata": {
    "collapsed": false
   },
   "outputs": [],
   "source": [
    "narrowpeak_cols = ['chrom', 'chromStart', 'chromEnd', 'name', 'score', 'strand', 'signalValue', 'pValue', 'qValue', 'peak']\n",
    "broadpeak_cols = narrowpeak_cols[:-1]\n",
    "questpeak_cols = ['chrom', 'peak', 'signalValue']\n",
    "columns = {'narrowPeak': narrowpeak_cols, 'broadPeak': broadpeak_cols, 'questPeak': questpeak_cols}\n",
    "\n",
    "def determine_filetype(df):\n",
    "    c = len(df.columns)\n",
    "    if c==10:\n",
    "        return 'narrowPeak'\n",
    "    elif c==9:\n",
    "        return 'broadPeak'\n",
    "    elif c==3:\n",
    "        return 'questPeak'\n",
    "    return 'unknown'\n",
    "\n",
    "replicate1 = pd.read_table('data/ENCSR000DPM/ENCFF001XLV.bed')\n",
    "replicate2 = pd.read_table('data/ENCSR000DPM/ENCFF001XLW.bed')\n",
    "\n",
    "replicate1_type = determine_filetype(replicate1)\n",
    "assert replicate1_type!='unknown'\n",
    "\n",
    "replicate2_type = determine_filetype(replicate2)\n",
    "assert replicate2_type!='unknown'\n",
    "\n",
    "replicate1.columns = columns[replicate1_type]\n",
    "replicate2.columns = columns[replicate2_type]"
   ]
  },
  {
   "cell_type": "code",
   "execution_count": 3,
   "metadata": {
    "collapsed": false
   },
   "outputs": [],
   "source": [
    "def update_peaks(df):\n",
    "    df['peak'] = np.where(df['peak'] == -1, (df['chromStart']+df['chromEnd'])/2.0, df['peak'])\n",
    "    return df\n",
    "replicate1 = update_peaks(replicate1)\n",
    "replicate2 = update_peaks(replicate2)"
   ]
  },
  {
   "cell_type": "code",
   "execution_count": 4,
   "metadata": {
    "collapsed": false
   },
   "outputs": [],
   "source": [
    "replicate1['label'] = 1\n",
    "replicate2['label'] = 2"
   ]
  },
  {
   "cell_type": "code",
   "execution_count": 41,
   "metadata": {
    "collapsed": false
   },
   "outputs": [],
   "source": [
    "combined_df = replicate1.append(replicate2)"
   ]
  },
  {
   "cell_type": "code",
   "execution_count": 42,
   "metadata": {
    "collapsed": true
   },
   "outputs": [],
   "source": [
    "columns_to_retain = ['chrom', 'peak', 'signalValue', 'label']\n",
    "combined_df = combined_df[columns_to_retain]"
   ]
  },
  {
   "cell_type": "code",
   "execution_count": 43,
   "metadata": {
    "collapsed": false
   },
   "outputs": [],
   "source": [
    "combined_df = combined_df.sort(['chrom', 'peak'])"
   ]
  },
  {
   "cell_type": "code",
   "execution_count": 44,
   "metadata": {
    "collapsed": false
   },
   "outputs": [],
   "source": [
    "grouped = combined_df.groupby('chrom')"
   ]
  },
  {
   "cell_type": "code",
   "execution_count": 52,
   "metadata": {
    "collapsed": false
   },
   "outputs": [
    {
     "name": "stderr",
     "output_type": "stream",
     "text": [
      "/usr/local/lib/python2.7/dist-packages/IPython/kernel/__main__.py:3: SettingWithCopyWarning: \n",
      "A value is trying to be set on a copy of a slice from a DataFrame.\n",
      "Try using .loc[row_indexer,col_indexer] = value instead\n",
      "\n",
      "See the the caveats in the documentation: http://pandas.pydata.org/pandas-docs/stable/indexing.html#indexing-view-versus-copy\n",
      "  app.launch_new_instance()\n"
     ]
    }
   ],
   "source": [
    "BIN_WIDTH = 40\n",
    "df1 = combined_df[combined_df['chrom']=='chr1']\n",
    "df1['bin'] = df1['peak']//BIN_WIDTH\n",
    "unique_bins = np.unique(df1['bin'])\n",
    "result_df = pd.DataFrame(columns=['bin', 'Replicate1 Peak', 'Replicate2 peak'])\n",
    "l=0\n",
    "for bin in unique_bins:\n",
    "    df = df1[df1['bin']==bin]\n",
    "    label = df['label']\n",
    "    if len(label)>=2:\n",
    "        #print('bin: {} replicate1_peak: {} replicate2_peak: {}'.format(bin, df[df['label']==1]['peak'].values, df[df['label']==2]['peak'].values))\n",
    "        result_df.loc[l] = [bin, str(df[df['label']==1]['peak'].values),  str(df[df['label']==2]['peak'].values)]\n",
    "        l=l+1"
   ]
  },
  {
   "cell_type": "code",
   "execution_count": 50,
   "metadata": {
    "collapsed": false
   },
   "outputs": [
    {
     "name": "stdout",
     "output_type": "stream",
     "text": [
      "chr1\n",
      "chr10\n",
      "chr11\n",
      "chr12\n",
      "chr13\n",
      "chr14\n",
      "chr15\n",
      "chr16\n",
      "chr17\n",
      "chr18\n",
      "chr19\n",
      "chr2\n",
      "chr20\n",
      "chr21\n",
      "chr22\n",
      "chr3\n",
      "chr4\n",
      "chr5\n",
      "chr6\n",
      "chr7\n",
      "chr8\n",
      "chr9\n",
      "chrX\n",
      "chrY\n"
     ]
    }
   ],
   "source": [
    "for name,grp in grouped:\n",
    "    grp['bins'] = grp['peak']//BIN_WIDTH\n",
    "    unique_bins = np.unique(bins)\n",
    "    for bin in unique_bins:\n",
    "        df = df1[df1['bin']==bin]\n",
    "        label = df['label']"
   ]
  },
  {
   "cell_type": "code",
   "execution_count": 19,
   "metadata": {
    "collapsed": false
   },
   "outputs": [
    {
     "data": {
      "text/plain": [
       "array([  3.36000000e+02,   3.62000000e+02,   4.70000000e+02, ...,\n",
       "         6.22919400e+06,   6.23001600e+06,   6.23047700e+06])"
      ]
     },
     "execution_count": 19,
     "metadata": {},
     "output_type": "execute_result"
    }
   ],
   "source": [
    "unique_bins"
   ]
  },
  {
   "cell_type": "code",
   "execution_count": 20,
   "metadata": {
    "collapsed": false
   },
   "outputs": [
    {
     "data": {
      "text/plain": [
       "64393"
      ]
     },
     "execution_count": 20,
     "metadata": {},
     "output_type": "execute_result"
    }
   ],
   "source": [
    "len(combined_df['bin'])"
   ]
  },
  {
   "cell_type": "code",
   "execution_count": 54,
   "metadata": {
    "collapsed": false
   },
   "outputs": [
    {
     "name": "stdout",
     "output_type": "stream",
     "text": [
      "          bin     Replicate1 Peak     Replicate2 peak\n",
      "0       21414          [ 856595.]          [ 856595.]\n",
      "1       23870          [ 954815.]          [ 954815.]\n",
      "2       29156         [ 1166255.]         [ 1166275.]\n",
      "3       30013         [ 1200555.]         [ 1200555.]\n",
      "4       30643         [ 1225735.]         [ 1225735.]\n",
      "5       30685         [ 1227435.]         [ 1227415.]\n",
      "6       30889         [ 1235595.]         [ 1235575.]\n",
      "7       30937         [ 1237495.]         [ 1237495.]\n",
      "8       31040         [ 1241615.]         [ 1241615.]\n",
      "9       34410         [ 1376435.]         [ 1376435.]\n",
      "10      43017         [ 1720695.]         [ 1720695.]\n",
      "11      46013         [ 1840555.]         [ 1840555.]\n",
      "12      46889         [ 1875595.]         [ 1875575.]\n",
      "13      47291         [ 1891655.]         [ 1891675.]\n",
      "14      49411         [ 1976475.]         [ 1976455.]\n",
      "15      51595         [ 2063835.]         [ 2063835.]\n",
      "16      51788         [ 2071535.]         [ 2071555.]\n",
      "17      52647         [ 2105915.]         [ 2105915.]\n",
      "18      53169         [ 2126795.]         [ 2126795.]\n",
      "19      53615         [ 2144635.]         [ 2144635.]\n",
      "20      54019         [ 2160795.]         [ 2160795.]\n",
      "21      57855         [ 2314215.]         [ 2314215.]\n",
      "22      58650         [ 2346015.]         [ 2346015.]\n",
      "23      61774         [ 2470995.]         [ 2470995.]\n",
      "24      62162         [ 2486495.]         [ 2486495.]\n",
      "25      80018         [ 3200755.]         [ 3200755.]\n",
      "26      80917         [ 3236715.]         [ 3236715.]\n",
      "27      83535         [ 3341435.]         [ 3341415.]\n",
      "28      84246         [ 3369875.]         [ 3369875.]\n",
      "29      85198         [ 3407955.]         [ 3407935.]\n",
      "...       ...                 ...                 ...\n",
      "1438  6044216  [  2.41768655e+08]  [  2.41768675e+08]\n",
      "1439  6049956  [  2.41998255e+08]  [  2.41998275e+08]\n",
      "1440  6054583  [  2.42183355e+08]  [  2.42183355e+08]\n",
      "1441  6065455  [  2.42618235e+08]  [  2.42618215e+08]\n",
      "1442  6087219  [  2.43488795e+08]  [  2.43488775e+08]\n",
      "1443  6087686  [  2.43507475e+08]  [  2.43507455e+08]\n",
      "1444  6090987  [  2.43639495e+08]  [  2.43639515e+08]\n",
      "1445  6103648  [  2.44145935e+08]  [  2.44145935e+08]\n",
      "1446  6110912  [  2.44436515e+08]  [  2.44436495e+08]\n",
      "1447  6111573  [  2.44462935e+08]  [  2.44462955e+08]\n",
      "1448  6114450  [  2.44578035e+08]  [  2.44578035e+08]\n",
      "1449  6120414  [  2.44816585e+08]  [  2.44816595e+08]\n",
      "1450  6124007  [  2.44960295e+08]  [  2.44960315e+08]\n",
      "1451  6124930  [  2.44997235e+08]  [  2.44997235e+08]\n",
      "1452  6141911  [  2.45676475e+08]  [  2.45676475e+08]\n",
      "1453  6141991  [  2.45679675e+08]  [  2.45679675e+08]\n",
      "1454  6149714  [  2.45988575e+08]  [  2.45988595e+08]\n",
      "1455  6150601  [  2.46024055e+08]  [  2.46024055e+08]\n",
      "1456  6154393  [  2.46175735e+08]  [  2.46175735e+08]\n",
      "1457  6165356  [  2.46614255e+08]  [  2.46614275e+08]\n",
      "1458  6167400  [  2.46696015e+08]  [  2.46696015e+08]\n",
      "1459  6168714  [  2.46748595e+08]  [  2.46748575e+08]\n",
      "1460  6170264  [  2.46810575e+08]  [  2.46810575e+08]\n",
      "1461  6171323  [  2.46852955e+08]  [  2.46852955e+08]\n",
      "1462  6172934  [  2.46917395e+08]  [  2.46917395e+08]\n",
      "1463  6188433  [  2.47537355e+08]  [  2.47537355e+08]\n",
      "1464  6188839  [  2.47553595e+08]  [  2.47553595e+08]\n",
      "1465  6196119  [  2.47844795e+08]  [  2.47844795e+08]\n",
      "1466  6210164  [  2.48406595e+08]  [  2.48406595e+08]\n",
      "1467  6230477  [  2.49219115e+08]  [  2.49219115e+08]\n",
      "\n",
      "[1468 rows x 3 columns]\n"
     ]
    }
   ],
   "source": [
    "print(result_df)"
   ]
  },
  {
   "cell_type": "code",
   "execution_count": null,
   "metadata": {
    "collapsed": true
   },
   "outputs": [],
   "source": []
  }
 ],
 "metadata": {
  "kernelspec": {
   "display_name": "Python 2",
   "language": "python",
   "name": "python2"
  },
  "language_info": {
   "codemirror_mode": {
    "name": "ipython",
    "version": 2
   },
   "file_extension": ".py",
   "mimetype": "text/x-python",
   "name": "python",
   "nbconvert_exporter": "python",
   "pygments_lexer": "ipython2",
   "version": "2.7.6"
  }
 },
 "nbformat": 4,
 "nbformat_minor": 0
}
