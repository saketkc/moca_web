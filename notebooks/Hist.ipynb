{
 "cells": [
  {
   "cell_type": "code",
   "execution_count": 26,
   "metadata": {
    "collapsed": false
   },
   "outputs": [],
   "source": [
    "%matplotlib inline\n",
    "import numpy as np\n",
    "import matplotlib\n",
    "import requests\n",
    "import os\n",
    "\n",
    "matplotlib.rcParams['figure.figsize'] = (16.0,16.0)"
   ]
  },
  {
   "cell_type": "code",
   "execution_count": 27,
   "metadata": {
    "collapsed": false
   },
   "outputs": [],
   "source": [
    "URL = 'http://moca.usc.edu:5000'\n",
    "data = {'genome': 'hg19', 'format':'json'}\n",
    "\n"
   ]
  },
  {
   "cell_type": "code",
   "execution_count": null,
   "metadata": {
    "collapsed": false
   },
   "outputs": [
    {
     "name": "stdout",
     "output_type": "stream",
     "text": [
      "/home/saket/Desktop/chip_scoring_beds/K562_NFRKB_A301-459A_Rep1_Rep2_RepAll_peaks.quest\n",
      "K562_NFRKB_A301-459A_Rep1_Rep2_RepAll_peaks.quest\t\t64b2a5a0-2b59-4f8b-9f7c-f1d393dd8087\n",
      "\n",
      "/home/saket/Desktop/chip_scoring_beds/MCF7_GABPalpha_sc-22810_Rep1vsRep2_RepAll_peaks.quest\n",
      "MCF7_GABPalpha_sc-22810_Rep1vsRep2_RepAll_peaks.quest\t\t5a6136dd-28e1-4af8-87bb-a3c71aa16f61\n",
      "\n",
      "/home/saket/Desktop/chip_scoring_beds/HepG2_Ski_sc-9140_Rep_2-3_RepAll_peaks.quest\n",
      "HepG2_Ski_sc-9140_Rep_2-3_RepAll_peaks.quest\t\t51614b4a-0dcb-4047-bee0-7b76b0710654\n",
      "\n",
      "/home/saket/Desktop/chip_scoring_beds/K562_FOXK2_A301-730A_Rep1-2_RepAll_peaks.quest\n",
      "K562_FOXK2_A301-730A_Rep1-2_RepAll_peaks.quest\t\t7d73839e-eee5-463d-811e-fbe056fdc53b\n",
      "\n",
      "/home/saket/Desktop/chip_scoring_beds/K562_IKZF1_GTX129438_Rep1_Rep2_RepAll_peaks.quest\n",
      "K562_IKZF1_GTX129438_Rep1_Rep2_RepAll_peaks.quest\t\t2cf479b5-5630-48b7-8f59-a9eb0bd27af0\n",
      "\n",
      "/home/saket/Desktop/chip_scoring_beds/K562_E2F1_3742S_Rep1_Rep2_RepAll_peaks.quest\n",
      "K562_E2F1_3742S_Rep1_Rep2_RepAll_peaks.quest\t\t2e17d107-015d-41ca-a157-21390815511a\n",
      "\n",
      "/home/saket/Desktop/chip_scoring_beds/H1_Neurons_P300_sc-585_RepAll_peaks.quest\n",
      "H1_Neurons_P300_sc-585_RepAll_peaks.quest\t\t4d85e621-cec6-42d1-95be-e24b85d3c576\n",
      "\n",
      "/home/saket/Desktop/chip_scoring_beds/K562_E2F1_GTX70165_Rep1_Rep2_RepAll_peaks.quest\n",
      "K562_E2F1_GTX70165_Rep1_Rep2_RepAll_peaks.quest\t\t25f9d307-30bd-4df5-989f-f80fbf06c90b\n",
      "\n",
      "/home/saket/Desktop/chip_scoring_beds/K562_ASH1_A301-748A_Rep1_Rep2_Rep2_RepAll_peaks.quest\n",
      "K562_ASH1_A301-748A_Rep1_Rep2_Rep2_RepAll_peaks.quest\t\t32eca126-5ec6-4f73-8da1-d1427a3fcded\n",
      "\n",
      "/home/saket/Desktop/chip_scoring_beds/K562_SIP1_A302-474A_Rep1_Rep2_RepAll_peaks.quest\n",
      "K562_SIP1_A302-474A_Rep1_Rep2_RepAll_peaks.quest\t\te5edce2e-79b2-4436-bbc5-995a5a310fcb\n",
      "\n",
      "/home/saket/Desktop/chip_scoring_beds/HepG2_RING1B_5694_Rep1-3_RepAll_peaks.quest\n",
      "HepG2_RING1B_5694_Rep1-3_RepAll_peaks.quest\t\t35fd0055-5fd4-4c06-9ad5-fd3b256b3f11\n",
      "\n",
      "/home/saket/Desktop/chip_scoring_beds/H1_Neurons_Rad21_ab992_RepAll_peaks.quest\n",
      "H1_Neurons_Rad21_ab992_RepAll_peaks.quest\t\t4bf821ea-d2c1-4af5-a6b2-84817c9a49cf\n",
      "\n",
      "/home/saket/Desktop/chip_scoring_beds/MCF-7_CTBP1_C8741_Rep1_Rep2_RepAll_peaks.quest\n",
      "MCF-7_CTBP1_C8741_Rep1_Rep2_RepAll_peaks.quest\t\t78329602-a29c-4fef-b38a-6d16bcf162d2\n",
      "\n",
      "/home/saket/Desktop/chip_scoring_beds/HeLa-S3_SREBP2_1000-7663_RepAll_peaks.quest\n",
      "HeLa-S3_SREBP2_1000-7663_RepAll_peaks.quest\t\tce57aeb7-7c87-4cdf-aeae-36d64f2667e1\n",
      "\n",
      "/home/saket/Desktop/chip_scoring_beds/A549_USF2_ab60931_RepAll_peaks.quest\n",
      "A549_USF2_ab60931_RepAll_peaks.quest\t\t5a4d5103-3a2b-4a6c-aa2f-ba5bfbd1b450\n",
      "\n",
      "/home/saket/Desktop/chip_scoring_beds/K562_MTA2_A300-396A_Rep1-2_RepAll_peaks.quest\n",
      "K562_MTA2_A300-396A_Rep1-2_RepAll_peaks.quest\t\t56a719e9-fecb-44bc-bfcd-d5b38bbefce8\n",
      "\n",
      "/home/saket/Desktop/chip_scoring_beds/A549_RFX5_200-401-194_RepAll_peaks.quest\n",
      "A549_RFX5_200-401-194_RepAll_peaks.quest\t\t4cf0ed83-55c2-4b4f-a20b-7c5c7a73b8b0\n",
      "\n",
      "/home/saket/Desktop/chip_scoring_beds/K562_ELF4_A302-659A_Rep1_Rep2_RepAll_peaks.quest\n",
      "K562_ELF4_A302-659A_Rep1_Rep2_RepAll_peaks.quest\t\td7a1e707-2d6e-49b1-b4a9-0648b05010f1\n",
      "\n",
      "/home/saket/Desktop/chip_scoring_beds/K562_DDX20_A300-650A_Rep1_Rep2_RepAll_peaks.quest\n",
      "K562_DDX20_A300-650A_Rep1_Rep2_RepAll_peaks.quest\t\t1cdfb30e-43e9-46f9-bc18-0711ece4a6ed\n",
      "\n",
      "/home/saket/Desktop/chip_scoring_beds/A549_PCAF_ab12188_RepAll_peaks.quest\n",
      "A549_PCAF_ab12188_RepAll_peaks.quest\t\t3e83f0c4-5084-4c2c-aa09-3270e88006b3\n",
      "\n",
      "/home/saket/Desktop/chip_scoring_beds/MCF-7_RFX5_200-401-194_RepAll_peaks.quest\n",
      "MCF-7_RFX5_200-401-194_RepAll_peaks.quest\t\te53ea905-5e9f-48d0-9f89-7391a1cf0586\n",
      "\n",
      "/home/saket/Desktop/chip_scoring_beds/H1_Neurons_SMC3_ab9263_RepAll_peaks.quest\n",
      "H1_Neurons_SMC3_ab9263_RepAll_peaks.quest\t\t93b0d120-a587-484a-9eef-683fc5c394ec\n",
      "\n",
      "/home/saket/Desktop/chip_scoring_beds/K562_NFATc3_A303-571A_Rep1_Rep2_RepAll_peaks.quest\n",
      "K562_NFATc3_A303-571A_Rep1_Rep2_RepAll_peaks.quest\t\t96a198c5-883a-4ada-84b9-2899efc32e7c\n",
      "\n",
      "/home/saket/Desktop/chip_scoring_beds/K562_DPF2_A303-596A_Rep1_Rep2_RepAll_peaks.quest\n",
      "K562_DPF2_A303-596A_Rep1_Rep2_RepAll_peaks.quest\t\tf36a9272-f61e-4c68-aa98-6f66c1ac7719\n",
      "\n",
      "/home/saket/Desktop/chip_scoring_beds/K562_E2F1_GTX101235_Rep1_Rep2_RepAll_peaks.quest\n",
      "K562_E2F1_GTX101235_Rep1_Rep2_RepAll_peaks.quest\t\t96fd355b-7b6b-4233-ab05-3e8479ebce48\n",
      "\n",
      "/home/saket/Desktop/chip_scoring_beds/GM12878_ATF7_HPA003384_Rep1_Rep2_RepAll_peaks.quest\n",
      "GM12878_ATF7_HPA003384_Rep1_Rep2_RepAll_peaks.quest\t\t4be3639b-36b3-4775-ad3c-8df0c4a7e259\n",
      "\n",
      "/home/saket/Desktop/chip_scoring_beds/K562_NBN_GTX103229_Rep1_Rep2_RepAll_peaks.quest\n",
      "K562_NBN_GTX103229_Rep1_Rep2_RepAll_peaks.quest\t\t816366de-d6e0-434c-a401-ce23ac35d1a6\n",
      "\n",
      "/home/saket/Desktop/chip_scoring_beds/MCF-7_SIN3A_NB600-1263_Rep1-3_RepAll_peaks.quest\n",
      "MCF-7_SIN3A_NB600-1263_Rep1-3_RepAll_peaks.quest\t\tc70857c3-db71-4b97-8d03-9e5ce0e70ecd\n",
      "\n",
      "/home/saket/Desktop/chip_scoring_beds/K562_MITF_39789_Rep3vsRep4_RepAll_peaks.quest\n",
      "K562_MITF_39789_Rep3vsRep4_RepAll_peaks.quest\t\t6def6af6-51c6-41b6-815f-5940296dbba4\n",
      "\n",
      "/home/saket/Desktop/chip_scoring_beds/MCF-7_Nrf1_ab55744_Rep1-3_RepAll_peaks.quest\n",
      "MCF-7_Nrf1_ab55744_Rep1-3_RepAll_peaks.quest\t\t564b3cfa-dabb-48d5-bfb1-63d3aca68820\n",
      "\n",
      "/home/saket/Desktop/chip_scoring_beds/K562_LEF1_A303-486A_Rep3vsRep4_RepAll_peaks.quest\n",
      "K562_LEF1_A303-486A_Rep3vsRep4_RepAll_peaks.quest\t\tb3e0a430-112e-4fcb-94df-84f635d73240\n",
      "\n",
      "/home/saket/Desktop/chip_scoring_beds/K562_TAL1_GTX116020_Rep1_Rep2_RepAll_peaks.quest\n",
      "K562_TAL1_GTX116020_Rep1_Rep2_RepAll_peaks.quest\t\t2d351604-06a3-4ecd-92b1-018c108dd42a\n",
      "\n",
      "/home/saket/Desktop/chip_scoring_beds/A549_SIN3A_NB600-1263_RepAll_peaks.quest\n",
      "A549_SIN3A_NB600-1263_RepAll_peaks.quest\t\t05fd8ed7-cb82-43b9-8894-bc22f5199471\n"
     ]
    }
   ],
   "source": [
    "for file in os.listdir(\"/home/saket/Desktop/chip_scoring_beds/\"):\n",
    "    if file.endswith(\".quest\"):\n",
    "        filename = \"/home/saket/Desktop/chip_scoring_beds/{}\".format(file)\n",
    "        files = {'file': open(filename, 'rb')}\n",
    "        print filename\n",
    "        req = requests.post(URL, files=files, data=data)\n",
    "        print ('{}\\t\\t{}\\n'.format(file,req.json()['job_id']))"
   ]
  },
  {
   "cell_type": "code",
   "execution_count": null,
   "metadata": {
    "collapsed": true
   },
   "outputs": [],
   "source": []
  }
 ],
 "metadata": {
  "kernelspec": {
   "display_name": "Python 2",
   "language": "python",
   "name": "python2"
  },
  "language_info": {
   "codemirror_mode": {
    "name": "ipython",
    "version": 2
   },
   "file_extension": ".py",
   "mimetype": "text/x-python",
   "name": "python",
   "nbconvert_exporter": "python",
   "pygments_lexer": "ipython2",
   "version": "2.7.6"
  }
 },
 "nbformat": 4,
 "nbformat_minor": 0
}
