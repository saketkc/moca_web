{
 "cells": [
  {
   "cell_type": "code",
   "execution_count": 8,
   "metadata": {
    "collapsed": true
   },
   "outputs": [],
   "source": [
    "import requests\n",
    "URL = 'https://www.encodeproject.org/search/?searchTerm=Chip-Seq&type=experiment&assembly=hg19&target.investigated_as=transcription%20factor&limit=all&format=json'\n",
    "    "
   ]
  },
  {
   "cell_type": "code",
   "execution_count": 9,
   "metadata": {
    "collapsed": true
   },
   "outputs": [],
   "source": [
    "req = requests.get(URL)\n",
    "result = req.json()\n",
    "res = result['@graph']"
   ]
  },
  {
   "cell_type": "code",
   "execution_count": 23,
   "metadata": {
    "collapsed": false
   },
   "outputs": [],
   "source": [
    "text=''\n",
    "for x in res:\n",
    "    expt = x['@id'].rstrip('/').replace('/experiments/','')   \n",
    "    text+='{}\\n'.format(expt)\n",
    "#text+= res[-1]['@id'].rstrip('/').replace('/experiments/','')   \n",
    "with open('encode_input.tsv','w') as f:\n",
    "    f.write(text)"
   ]
  },
  {
   "cell_type": "code",
   "execution_count": 19,
   "metadata": {
    "collapsed": false
   },
   "outputs": [
    {
     "data": {
      "text/plain": [
       "879"
      ]
     },
     "execution_count": 19,
     "metadata": {},
     "output_type": "execute_result"
    }
   ],
   "source": [
    "len(res[:-1])"
   ]
  },
  {
   "cell_type": "code",
   "execution_count": 22,
   "metadata": {
    "collapsed": false
   },
   "outputs": [
    {
     "data": {
      "text/plain": [
       "{u'@id': u'/experiments/ENCSR000DNO/',\n",
       " u'@type': [u'Experiment', u'Dataset', u'Item'],\n",
       " u'accession': u'ENCSR000DNO',\n",
       " u'assay_term_name': u'ChIP-seq',\n",
       " u'award': {u'project': u'ENCODE'},\n",
       " u'biosample_term_name': u'GM12878',\n",
       " u'description': u'KAT2A ChIP-seq on human GM12878',\n",
       " u'files': [],\n",
       " u'lab': {u'title': u'Kevin Struhl, HMS'},\n",
       " u'replicates': [{u'antibody': {u'accession': u'ENCAB000AHA'},\n",
       "   u'library': {u'biosample': {u'age': u'unknown',\n",
       "     u'life_stage': u'adult',\n",
       "     u'organism': {u'scientific_name': u'Homo sapiens'},\n",
       "     u'treatments': []}}},\n",
       "  {u'antibody': {u'accession': u'ENCAB000AHA'},\n",
       "   u'library': {u'biosample': {u'age': u'unknown',\n",
       "     u'life_stage': u'adult',\n",
       "     u'organism': {u'scientific_name': u'Homo sapiens'},\n",
       "     u'treatments': []}}}],\n",
       " u'status': u'released',\n",
       " u'target': {u'label': u'KAT2A'}}"
      ]
     },
     "execution_count": 22,
     "metadata": {},
     "output_type": "execute_result"
    }
   ],
   "source": [
    "res[-1]"
   ]
  },
  {
   "cell_type": "code",
   "execution_count": null,
   "metadata": {
    "collapsed": true
   },
   "outputs": [],
   "source": []
  }
 ],
 "metadata": {
  "kernelspec": {
   "display_name": "Python 2",
   "language": "python",
   "name": "python2"
  },
  "language_info": {
   "codemirror_mode": {
    "name": "ipython",
    "version": 2
   },
   "file_extension": ".py",
   "mimetype": "text/x-python",
   "name": "python",
   "nbconvert_exporter": "python",
   "pygments_lexer": "ipython2",
   "version": "2.7.10"
  }
 },
 "nbformat": 4,
 "nbformat_minor": 0
}
