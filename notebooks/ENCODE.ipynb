{
 "cells": [
  {
   "cell_type": "code",
   "execution_count": 20,
   "metadata": {
    "collapsed": true
   },
   "outputs": [],
   "source": [
    "import requests\n",
    "URL = 'https://www.encodeproject.org/search/?searchTerm=Chip-Seq&type=experiment&assembly=hg19&target.investigated_as=transcription%20factor&limit=all&format=json'\n",
    "import sys \n",
    "import time"
   ]
  },
  {
   "cell_type": "code",
   "execution_count": 21,
   "metadata": {
    "collapsed": false
   },
   "outputs": [],
   "source": [
    "req = requests.get(URL)\n",
    "result = req.json()\n",
    "res = result['@graph']"
   ]
  },
  {
   "cell_type": "code",
   "execution_count": 24,
   "metadata": {
    "collapsed": false
   },
   "outputs": [],
   "source": [
    "text=''\n",
    "expts = []\n",
    "for x in res:\n",
    "    expt = x['@id'].rstrip('/').replace('/experiments/','') \n",
    "    expts.append(expt)\n",
    "    text+='{}\\n'.format(expt)\n",
    "#text+= res[-1]['@id'].rstrip('/').replace('/experiments/','')   \n",
    "#with open('encode_input.tsv','w') as f:\n",
    "    #f.write(text)"
   ]
  },
  {
   "cell_type": "code",
   "execution_count": 37,
   "metadata": {
    "collapsed": false
   },
   "outputs": [
    {
     "name": "stdout",
     "output_type": "stream",
     "text": [
      "ENCSR000AHD,ENCFF001UML\n",
      "ENCSR000AHD,ENCFF001UMN\n"
     ]
    }
   ],
   "source": [
    "def check_status(job_id):\n",
    "    status = 'pending'\n",
    "    url = 'http://moca.usc.edu:5000'\n",
    "    while status!='SUCCESS':\n",
    "        req = requests.get('{}/status/{}'.format(url,job_id))\n",
    "        resp = req.json()\n",
    "        status = resp['status']\n",
    "        if resp=='failure' or resp=='FAILURE':\n",
    "            break\n",
    "        time.sleep(1)\n",
    "    return resp\n",
    "\n",
    "__base_url__ = 'https://www.encodeproject.org/'\n",
    "\n",
    "ALLOWED_OUTPUT_TYPES = ['optimal idr thresholded peaks', 'peaks']\n",
    "ALLOWED_FILETYPES = ['bed narrowPeak', 'bed broadPeak']\n",
    "\n",
    "def get_encode_peakfiles(encode_id):\n",
    "    req = requests.get(\"{}experiments/{}/?format=json\".format(__base_url__, encode_id))\n",
    "    response_json = req.json()\n",
    "    status = response_json['status']\n",
    "    if status == 'error':\n",
    "        return response_json\n",
    "    files = response_json['files']\n",
    "    biosample_term_name = response_json['biosample_term_name']\n",
    "    assay_term_name = response_json['assay_term_name']\n",
    "    description = response_json['description']\n",
    "    gene_name = response_json['target']['label']\n",
    "    files_to_download = []\n",
    "    for f in files:\n",
    "        file_type = f['file_type']\n",
    "        file_status = f['status']\n",
    "        if file_type in ALLOWED_FILETYPES:\n",
    "            files_to_download.append(f['title'])\n",
    "    return files_to_download\n",
    "\n",
    "request_data = []\n",
    "error_data = []\n",
    "\n",
    "for ex in expts:\n",
    "    files = get_encode_peakfiles(ex)\n",
    "    for f in files:\n",
    "        URL = 'http://moca.usc.edu:5000/encodejob/{}/{}'.format(ex, f)\n",
    "        req = requests.post(URL)\n",
    "        try:\n",
    "            resp = req.json()['job_id']\n",
    "            check_status(resp)\n",
    "            sys.stdout.write('{},{}\\n'.format(ex,f))\n",
    "        except Exception as e:\n",
    "            sys.stderr.write('{},{}\\n'.format(ex,f))\n",
    "            sys.stderr.write('******Start*******\\n')\n",
    "            sys.stderr.write(req.content)\n",
    "            sys.stderr.write('******End*********\\n')\n",
    "            sys.stderr.write('******Exception*******\\n')\n",
    "            sys.stderr.write(str(e))\n",
    "            sys.stderr.write('******End*******\\n')            "
   ]
  },
  {
   "cell_type": "code",
   "execution_count": null,
   "metadata": {
    "collapsed": true
   },
   "outputs": [],
   "source": []
  }
 ],
 "metadata": {
  "kernelspec": {
   "display_name": "Python 2",
   "language": "python",
   "name": "python2"
  },
  "language_info": {
   "codemirror_mode": {
    "name": "ipython",
    "version": 2
   },
   "file_extension": ".py",
   "mimetype": "text/x-python",
   "name": "python",
   "nbconvert_exporter": "python",
   "pygments_lexer": "ipython2",
   "version": "2.7.10"
  }
 },
 "nbformat": 4,
 "nbformat_minor": 0
}
