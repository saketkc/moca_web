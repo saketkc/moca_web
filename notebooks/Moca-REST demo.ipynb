{
 "cells": [
  {
   "cell_type": "code",
   "execution_count": 17,
   "metadata": {
    "collapsed": false
   },
   "outputs": [],
   "source": [
    "import requests\n",
    "import os\n",
    "import ntpath\n",
    "import pandas as pd\n",
    "from time import sleep"
   ]
  },
  {
   "cell_type": "code",
   "execution_count": 18,
   "metadata": {
    "collapsed": false
   },
   "outputs": [],
   "source": [
    "URL = 'http://moca.usc.edu'\n",
    "data = {'genome': 'hg19', 'format':'json'}\n",
    "request_data = []\n",
    "error_data = []\n",
    "files_to_process = []"
   ]
  },
  {
   "cell_type": "code",
   "execution_count": 19,
   "metadata": {
    "collapsed": false
   },
   "outputs": [],
   "source": [
    "for file in os.listdir(\"/home/saket/Desktop/chip_scoring_beds/\"):\n",
    "    if file.endswith(\".quest\"):\n",
    "        filename = \"/home/saket/Desktop/chip_scoring_beds/{}\".format(file)\n",
    "        fn = ntpath.basename(filename)\n",
    "        files_to_process.append(filename)\n",
    "def check_status(job_id):\n",
    "    status = 'pending'\n",
    "    while status!='SUCCESS':\n",
    "        req = requests.get('{}/status/{}'.format(URL,job_id))\n",
    "        resp = req.json()\n",
    "        status = resp['status']\n",
    "        if resp=='failure' or resp=='FAILURE':\n",
    "            break\n",
    "    return resp"
   ]
  },
  {
   "cell_type": "code",
   "execution_count": 16,
   "metadata": {
    "collapsed": false
   },
   "outputs": [
    {
     "name": "stdout",
     "output_type": "stream",
     "text": [
      "CPU times: user 2 µs, sys: 0 ns, total: 2 µs\n",
      "Wall time: 4.05 µs\n"
     ]
    }
   ],
   "source": [
    "for filename in files_to_process:\n",
    "        files = {'file': open(filename, 'rb')}\n",
    "        req = requests.post(URL, files=files, data=data)\n",
    "        try:\n",
    "            resp = req.json()['job_id']\n",
    "            check_status(resp)\n",
    "            request_data.append((fn, resp))\n",
    "        except:\n",
    "            print 'Failed: {}'.format(filename)\n",
    "            print req.content\n",
    "            error_data.append((fn))"
   ]
  },
  {
   "cell_type": "code",
   "execution_count": 17,
   "metadata": {
    "collapsed": false
   },
   "outputs": [],
   "source": [
    "rurl = 'http://moca.usc.edu:5000/results/'\n",
    "df = pd.DataFrame(columns = ('filename', 'link'))\n",
    "for x, d in enumerate(request_data):\n",
    "    df.loc[x] = [d[0], rurl+d[1]]\n",
    "df.to_csv('encode_results.tsv', index=False, sep='\\t')"
   ]
  }
 ],
 "metadata": {
  "kernelspec": {
   "display_name": "Python 2",
   "language": "python",
   "name": "python2"
  },
  "language_info": {
   "codemirror_mode": {
    "name": "ipython",
    "version": 2
   },
   "file_extension": ".py",
   "mimetype": "text/x-python",
   "name": "python",
   "nbconvert_exporter": "python",
   "pygments_lexer": "ipython2",
   "version": "2.7.6"
  }
 },
 "nbformat": 4,
 "nbformat_minor": 0
}
